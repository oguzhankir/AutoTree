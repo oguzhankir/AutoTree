{
 "cells": [
  {
   "cell_type": "markdown",
   "id": "edbe56a2-fef1-447c-9946-f5a51687a513",
   "metadata": {},
   "source": [
    "# step\n",
    "\n",
    "- problem type belirlenmesi: başlangıç için binary classification ve normal regresyon, dieğrleri not implemented\n",
    "- model seçilebilir olmalı. başlangıç için üç seçenek: catboost, lightgbm, xgboost\n",
    "- parametre arama yöntemi seçilmeli. başlangıç için sadece optuna\n",
    "- validasyon stratejisi başlangıç için classificationsa stratified kfold, değilse kfold olmalı\n"
   ]
  },
  {
   "cell_type": "code",
   "execution_count": 1,
   "id": "0ae88527-806f-4e5f-b9a4-b797d9c1ba5c",
   "metadata": {},
   "outputs": [],
   "source": [
    "import pandas as pd\n",
    "from sklearn.utils.multiclass import type_of_target\n",
    "import catboost\n",
    "import xgboost\n",
    "import lightgbm\n",
    "from sklearn.model_selection import StratifiedKFold, KFold, train_test_split\n",
    "from sklearn.metrics import f1_score\n",
    "import numpy as np\n",
    "import optuna\n",
    "from functools import partial\n",
    "from tqdm import tqdm\n",
    "\n",
    "%load_ext lab_black"
   ]
  },
  {
   "cell_type": "code",
   "execution_count": 2,
   "id": "2d240fe5-679f-4071-bed5-3e2687acc7d0",
   "metadata": {},
   "outputs": [],
   "source": [
    "df_reg = pd.read_csv(\"single_column_regression.csv\").rename(columns={\"target\": \"label\"})\n",
    "df_cf = pd.read_csv(\"binary_classification.csv\").rename(columns={\"income\": \"label\"})"
   ]
  },
  {
   "cell_type": "code",
   "execution_count": 3,
   "id": "628e77f1-b4ee-445a-9d83-4eb8069526f4",
   "metadata": {},
   "outputs": [],
   "source": [
    "df_cf.label = df_cf[\"label\"].map({\"<=50K\": 1, \">50K\": 0})  # todo: automaticly"
   ]
  },
  {
   "cell_type": "code",
   "execution_count": 4,
   "id": "84a9413b-96ae-4331-902f-d58d7c5e82e0",
   "metadata": {},
   "outputs": [],
   "source": [
    "# inputs\n",
    "class CFG:\n",
    "    # must\n",
    "    label = \"label\"\n",
    "    model = \"catboost\"\n",
    "    fold = 5\n",
    "    trial = 1\n",
    "\n",
    "    # optional\n",
    "    task = None  # [\"regression\",\"classification\"]\n",
    "    tune = True\n",
    "    features_to_drop = []\n",
    "    random_state = 42"
   ]
  },
  {
   "cell_type": "code",
   "execution_count": 5,
   "id": "9f437ad1-9586-4158-a749-d1016e35389b",
   "metadata": {},
   "outputs": [],
   "source": [
    "class TaskId:\n",
    "    regression = 0\n",
    "    classification = 1"
   ]
  },
  {
   "cell_type": "code",
   "execution_count": 6,
   "id": "7f9dfdba-8faf-4454-b9d8-528b13084ba1",
   "metadata": {},
   "outputs": [],
   "source": [
    "# this function detect problem type automaticaly\n",
    "def detect_problem_type(train_df):\n",
    "    if CFG.task == \"classification\":\n",
    "        return \"classification\", TaskId.classification\n",
    "    elif CFG.task == \"regression\":\n",
    "        return \"regression\", TaskId.regression\n",
    "    else:\n",
    "        if type_of_target(train_df[CFG.label].values) == \"continuous\":\n",
    "            return \"regression\", TaskId.regression\n",
    "        elif type_of_target(train_df[CFG.label].values) == \"binary\":\n",
    "            return \"classification\", TaskId.classification\n",
    "        else:\n",
    "            raise NotImplementedError"
   ]
  },
  {
   "cell_type": "code",
   "execution_count": 8,
   "id": "294b7404-5a6d-412b-bde4-caee2b53f815",
   "metadata": {},
   "outputs": [],
   "source": [
    "def get_optuna_parameter_space(trial):\n",
    "    \"\"\"\n",
    "    return parameter search space\n",
    "    \"\"\"\n",
    "    # todo: expand\n",
    "    params = {\n",
    "        \"learning_rate\": trial.suggest_float(\"learning_rate\", 1e-2, 0.25, log=True),\n",
    "        \"max_depth\": trial.suggest_int(\"max_depth\", 1, 9),\n",
    "        \"n_estimators\": trial.suggest_int(\"n_estimators\", 100, 1000),\n",
    "        \"early_stopping_rounds\": trial.suggest_int(\"early_stopping_rounds\", 20, 50),\n",
    "    }\n",
    "\n",
    "    return params"
   ]
  },
  {
   "cell_type": "code",
   "execution_count": 9,
   "id": "09754a72-cff7-46cd-bfcb-1f3c0222818c",
   "metadata": {},
   "outputs": [],
   "source": [
    "def map_to_model_class(task):\n",
    "    class_map_dict = {\n",
    "        xgboost.__name__: (xgboost, \"XGBoost\"),\n",
    "        catboost.__name__: (catboost, \"CatBoost\"),\n",
    "        lightgbm.__name__: (lightgbm, \"LightGBM\"),\n",
    "    }\n",
    "    model, model_name = class_map_dict[CFG.model]\n",
    "    if task == \"regression\":\n",
    "        model_type = \"Regressor\"\n",
    "    else:\n",
    "        model_type = \"Classifier\"\n",
    "\n",
    "    return getattr(model, model_name + model_type)"
   ]
  },
  {
   "cell_type": "code",
   "execution_count": 10,
   "id": "4aa5e5da-f40d-4a21-a2a4-5b9a1bde0af4",
   "metadata": {},
   "outputs": [],
   "source": [
    "def map_to_validation_strategy(task):\n",
    "    if task == \"classification\":\n",
    "        return StratifiedKFold(\n",
    "            n_splits=CFG.fold, shuffle=True, random_state=CFG.random_state\n",
    "        )\n",
    "    else:\n",
    "        return KFold(n_splits=CFG.fold, shuffle=True, random_state=CFG.random_state)"
   ]
  },
  {
   "cell_type": "code",
   "execution_count": 11,
   "id": "ee1fbc34-5957-41f9-8678-f6d393a0f4e8",
   "metadata": {},
   "outputs": [],
   "source": [
    "def get_cat_and_num_features(df_):\n",
    "    cat_features = df_.select_dtypes([\"object\", \"category\"]).columns\n",
    "    num_features = df_.select_dtypes([\"int\", \"float\"]).columns\n",
    "    return cat_features, num_features"
   ]
  },
  {
   "cell_type": "code",
   "execution_count": 12,
   "id": "4e4b1de4-6e0b-46d7-8667-85724bc0f7fb",
   "metadata": {},
   "outputs": [],
   "source": [
    "def optimize(trial, train_df):\n",
    "    task, task_id = detect_problem_type(train_df)\n",
    "\n",
    "    cv = map_to_validation_strategy(task)\n",
    "    params = get_optuna_parameter_space(trial)\n",
    "    cat_features, num_features = get_cat_and_num_features(train_df)\n",
    "    label = CFG.label\n",
    "\n",
    "    input_features = train_df.columns.difference(\n",
    "        pd.Index(CFG.features_to_drop).union(pd.Index([label]))\n",
    "    )\n",
    "\n",
    "    cv_splits = list(cv.split(train_df.index, train_df[label].astype(str)))\n",
    "\n",
    "    scores = list()\n",
    "    for fold, (split_train, split_val) in tqdm(enumerate(cv_splits), total=CFG.fold):\n",
    "        model = map_to_model_class(task)(**params)\n",
    "\n",
    "        model.fit(\n",
    "            train_df[input_features].iloc[split_train],\n",
    "            train_df[label].iloc[split_train],\n",
    "            cat_features=list(cat_features.difference(pd.Index(CFG.features_to_drop))),\n",
    "            eval_set=[\n",
    "                (\n",
    "                    train_df[input_features].iloc[split_val],\n",
    "                    train_df[label].iloc[split_val],\n",
    "                )\n",
    "            ],\n",
    "            verbose=100,\n",
    "        )\n",
    "\n",
    "        preds = model.predict(train_df[input_features].iloc[split_val])\n",
    "\n",
    "        score = f1_score(train_df[label].iloc[split_val], preds)  # todo: eval metric\n",
    "        scores.append(score)\n",
    "\n",
    "    cv_score = np.mean(scores)\n",
    "    return cv_score"
   ]
  },
  {
   "cell_type": "code",
   "execution_count": 13,
   "id": "cfc3f6a6-bcee-462f-a914-c40c28ec2790",
   "metadata": {},
   "outputs": [],
   "source": [
    "# train_df = df_cf.copy()"
   ]
  },
  {
   "cell_type": "code",
   "execution_count": 14,
   "id": "4c87911c-840d-4c08-8aff-3702e6a500f7",
   "metadata": {},
   "outputs": [
    {
     "name": "stderr",
     "output_type": "stream",
     "text": [
      "\u001b[32m[I 2023-03-12 17:40:09,393]\u001b[0m A new study created in memory with name: no-name-ca0bc197-6ce7-4a1e-9d7e-b524a2d462b6\u001b[0m\n",
      "  0%|                                                                                            | 0/5 [00:00<?, ?it/s]"
     ]
    },
    {
     "name": "stdout",
     "output_type": "stream",
     "text": [
      "0:\tlearn: 0.6788544\ttest: 0.6789308\tbest: 0.6789308 (0)\ttotal: 180ms\tremaining: 50.4s\n",
      "100:\tlearn: 0.3100246\ttest: 0.3162796\tbest: 0.3162796 (100)\ttotal: 7.38s\tremaining: 13.2s\n",
      "200:\tlearn: 0.2862236\ttest: 0.2967349\tbest: 0.2967349 (200)\ttotal: 15.5s\tremaining: 6.17s\n"
     ]
    },
    {
     "name": "stderr",
     "output_type": "stream",
     "text": [
      " 20%|████████████████▊                                                                   | 1/5 [00:22<01:30, 22.50s/it]"
     ]
    },
    {
     "name": "stdout",
     "output_type": "stream",
     "text": [
      "280:\tlearn: 0.2766304\ttest: 0.2908243\tbest: 0.2908243 (280)\ttotal: 22.1s\tremaining: 0us\n",
      "\n",
      "bestTest = 0.2908243156\n",
      "bestIteration = 280\n",
      "\n",
      "0:\tlearn: 0.6755048\ttest: 0.6756854\tbest: 0.6756854 (0)\ttotal: 89.6ms\tremaining: 25.1s\n",
      "100:\tlearn: 0.3105019\ttest: 0.3147526\tbest: 0.3147526 (100)\ttotal: 7.51s\tremaining: 13.4s\n",
      "200:\tlearn: 0.2850666\ttest: 0.2963384\tbest: 0.2963384 (200)\ttotal: 15.5s\tremaining: 6.17s\n"
     ]
    },
    {
     "name": "stderr",
     "output_type": "stream",
     "text": [
      " 40%|█████████████████████████████████▌                                                  | 2/5 [00:44<01:06, 22.31s/it]"
     ]
    },
    {
     "name": "stdout",
     "output_type": "stream",
     "text": [
      "280:\tlearn: 0.2757713\ttest: 0.2916908\tbest: 0.2916908 (280)\ttotal: 21.8s\tremaining: 0us\n",
      "\n",
      "bestTest = 0.2916907569\n",
      "bestIteration = 280\n",
      "\n",
      "0:\tlearn: 0.6755773\ttest: 0.6755015\tbest: 0.6755015 (0)\ttotal: 81.3ms\tremaining: 22.8s\n",
      "100:\tlearn: 0.3082984\ttest: 0.3197663\tbest: 0.3197663 (100)\ttotal: 8.29s\tremaining: 14.8s\n",
      "200:\tlearn: 0.2849245\ttest: 0.3031567\tbest: 0.3031567 (200)\ttotal: 17.1s\tremaining: 6.8s\n"
     ]
    },
    {
     "name": "stderr",
     "output_type": "stream",
     "text": [
      " 60%|██████████████████████████████████████████████████▍                                 | 3/5 [01:09<00:46, 23.44s/it]"
     ]
    },
    {
     "name": "stdout",
     "output_type": "stream",
     "text": [
      "280:\tlearn: 0.2758013\ttest: 0.2983738\tbest: 0.2983738 (280)\ttotal: 24.4s\tremaining: 0us\n",
      "\n",
      "bestTest = 0.2983738154\n",
      "bestIteration = 280\n",
      "\n",
      "0:\tlearn: 0.6775185\ttest: 0.6774771\tbest: 0.6774771 (0)\ttotal: 73.2ms\tremaining: 20.5s\n",
      "100:\tlearn: 0.3094787\ttest: 0.3163580\tbest: 0.3163580 (100)\ttotal: 8.31s\tremaining: 14.8s\n",
      "200:\tlearn: 0.2843521\ttest: 0.2978785\tbest: 0.2978785 (200)\ttotal: 19.8s\tremaining: 7.87s\n"
     ]
    },
    {
     "name": "stderr",
     "output_type": "stream",
     "text": [
      " 80%|███████████████████████████████████████████████████████████████████▏                | 4/5 [01:37<00:25, 25.43s/it]"
     ]
    },
    {
     "name": "stdout",
     "output_type": "stream",
     "text": [
      "280:\tlearn: 0.2746539\ttest: 0.2921537\tbest: 0.2921537 (280)\ttotal: 28s\tremaining: 0us\n",
      "\n",
      "bestTest = 0.2921537467\n",
      "bestIteration = 280\n",
      "\n",
      "0:\tlearn: 0.6777509\ttest: 0.6777178\tbest: 0.6777178 (0)\ttotal: 98.7ms\tremaining: 27.6s\n",
      "100:\tlearn: 0.3113395\ttest: 0.3138785\tbest: 0.3138785 (100)\ttotal: 10.4s\tremaining: 18.5s\n",
      "200:\tlearn: 0.2865757\ttest: 0.2944082\tbest: 0.2944082 (200)\ttotal: 21s\tremaining: 8.35s\n"
     ]
    },
    {
     "name": "stderr",
     "output_type": "stream",
     "text": [
      "100%|████████████████████████████████████████████████████████████████████████████████████| 5/5 [02:06<00:00, 25.34s/it]\n",
      "\u001b[32m[I 2023-03-12 17:42:16,141]\u001b[0m Trial 0 finished with value: 0.9148121720807205 and parameters: {'learning_rate': 0.014893944705178191, 'max_depth': 9, 'n_estimators': 281, 'early_stopping_rounds': 42}. Best is trial 0 with value: 0.9148121720807205.\u001b[0m\n"
     ]
    },
    {
     "name": "stdout",
     "output_type": "stream",
     "text": [
      "280:\tlearn: 0.2768674\ttest: 0.2892037\tbest: 0.2892037 (280)\ttotal: 28.3s\tremaining: 0us\n",
      "\n",
      "bestTest = 0.2892037412\n",
      "bestIteration = 280\n",
      "\n"
     ]
    }
   ],
   "source": [
    "study = optuna.create_study(direction=\"maximize\")  # todo: direction based on metric\n",
    "study.optimize(partial(optimize, train_df=df_cf), n_trials=CFG.trial)"
   ]
  },
  {
   "cell_type": "code",
   "execution_count": 15,
   "id": "f5c3d9c7-fa89-4147-8c29-551e7fe9bb03",
   "metadata": {},
   "outputs": [
    {
     "data": {
      "text/plain": [
       "{'learning_rate': 0.014893944705178191,\n",
       " 'max_depth': 9,\n",
       " 'n_estimators': 281,\n",
       " 'early_stopping_rounds': 42}"
      ]
     },
     "execution_count": 15,
     "metadata": {},
     "output_type": "execute_result"
    }
   ],
   "source": [
    "study.best_params"
   ]
  },
  {
   "cell_type": "markdown",
   "id": "15dcb6c3-f08d-4691-96e4-d6f69a84afea",
   "metadata": {},
   "source": [
    "# schemas\n",
    "from pydantic import BaseModel\n",
    "from typing import List, Optional\n",
    "\n",
    "\n",
    "class CFG(BaseModel):\n",
    "    \"\"\"\n",
    "    input configs\n",
    "    \"\"\"\n",
    "    #required\n",
    "    train_file_path = \"data_samples/binary_classification.csv\"\n",
    "    output_path = \"output\"\n",
    "\n",
    "    # optional parameters\n",
    "    test_file_path: Optional[str] = None\n",
    "    task :Optional[str] = None\n",
    "    idx :Optional[str] = None\n",
    "    label = \"income\"\n",
    "    features :Optional[List(str)] = None\n",
    "    categorical_features = None\n",
    "    use_gpu = True\n",
    "    num_folds = 5\n",
    "    seed = 42\n",
    "    num_trials = 100"
   ]
  },
  {
   "cell_type": "code",
   "execution_count": null,
   "id": "62a7062c-8143-4a9b-ac43-e91f61747ea8",
   "metadata": {},
   "outputs": [],
   "source": []
  }
 ],
 "metadata": {
  "kernelspec": {
   "display_name": "Python 3 (ipykernel)",
   "language": "python",
   "name": "python3"
  },
  "language_info": {
   "codemirror_mode": {
    "name": "ipython",
    "version": 3
   },
   "file_extension": ".py",
   "mimetype": "text/x-python",
   "name": "python",
   "nbconvert_exporter": "python",
   "pygments_lexer": "ipython3",
   "version": "3.9.13"
  }
 },
 "nbformat": 4,
 "nbformat_minor": 5
}
